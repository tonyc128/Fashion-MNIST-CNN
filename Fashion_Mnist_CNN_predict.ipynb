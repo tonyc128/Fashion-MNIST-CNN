{
  "nbformat": 4,
  "nbformat_minor": 0,
  "metadata": {
    "colab": {
      "name": "Fashion_Mnist_CNN_predict.ipynb",
      "provenance": []
    },
    "kernelspec": {
      "name": "python3",
      "display_name": "Python 3"
    }
  },
  "cells": [
    {
      "cell_type": "code",
      "metadata": {
        "colab": {
          "base_uri": "https://localhost:8080/"
        },
        "id": "iPCVjnIWXUdP",
        "outputId": "af9f42c8-21ad-4d25-d3e6-a360a8bbccc2"
      },
      "source": [
        "import os\r\n",
        "from google.colab import drive\r\n",
        "drive.mount('/content/drive')"
      ],
      "execution_count": null,
      "outputs": [
        {
          "output_type": "stream",
          "text": [
            "Mounted at /content/drive\n"
          ],
          "name": "stdout"
        }
      ]
    },
    {
      "cell_type": "code",
      "metadata": {
        "colab": {
          "base_uri": "https://localhost:8080/",
          "height": 38
        },
        "id": "KrVcTIwkXplU",
        "outputId": "faa75624-e0ec-421b-c849-e5cf5f612470"
      },
      "source": [
        "os.chdir(\"/content/drive/My Drive/fashion_mnist\") #更改路徑\r\n",
        "os.getcwd() #查看當前路徑"
      ],
      "execution_count": null,
      "outputs": [
        {
          "output_type": "execute_result",
          "data": {
            "application/vnd.google.colaboratory.intrinsic+json": {
              "type": "string"
            },
            "text/plain": [
              "'/content/drive/My Drive/fashion_mnist'"
            ]
          },
          "metadata": {
            "tags": []
          },
          "execution_count": 2
        }
      ]
    },
    {
      "cell_type": "code",
      "metadata": {
        "id": "hQWMKrZEXqXV"
      },
      "source": [
        "from tensorflow.keras import Sequential\r\n",
        "from tensorflow.keras.layers import Dense, Flatten, Conv2D, MaxPool2D, Dropout, BatchNormalization"
      ],
      "execution_count": null,
      "outputs": []
    },
    {
      "cell_type": "code",
      "metadata": {
        "id": "-jElfHlqXxxG"
      },
      "source": [
        "model = Sequential()\r\n",
        "model.add(Conv2D(64, (3, 3), activation='relu', input_shape = (28, 28, 1)))\r\n",
        "model.add(MaxPool2D((2, 2), padding='same'))\r\n",
        "model.add(Dropout(0.25))\r\n",
        "\r\n",
        "model.add(Conv2D(128, (3, 3), activation='relu'))\r\n",
        "model.add(MaxPool2D((2, 2), padding='same'))\r\n",
        "model.add(Dropout(0.25))\r\n",
        "\r\n",
        "model.add(Flatten())\r\n",
        "model.add(Dense(216, activation='relu'))\r\n",
        "model.add(Dropout(0.5))\r\n",
        "model.add(Dense(10, activation='softmax'))"
      ],
      "execution_count": null,
      "outputs": []
    },
    {
      "cell_type": "code",
      "metadata": {
        "id": "RdMybp0AYHmN"
      },
      "source": [
        "model.load_weights('fashion_Minst3.h5')\r\n"
      ],
      "execution_count": null,
      "outputs": []
    },
    {
      "cell_type": "code",
      "metadata": {
        "id": "xFukbKlLZX25"
      },
      "source": [
        "import pandas as pd\r\n",
        "import numpy as np"
      ],
      "execution_count": null,
      "outputs": []
    },
    {
      "cell_type": "code",
      "metadata": {
        "id": "3r22n9mGZcnF"
      },
      "source": [
        "test_data = pd.read_csv('fashion-mnist_test_data.csv')\r\n",
        "X_test = test_data.to_numpy()\r\n",
        "X_test = X_test.reshape(10000, 28, 28, 1)\r\n",
        "X_test = X_test/255.0"
      ],
      "execution_count": null,
      "outputs": []
    },
    {
      "cell_type": "code",
      "metadata": {
        "id": "RrL9iKakYIl0"
      },
      "source": [
        "import matplotlib.pyplot as plt\r\n",
        "import random\r\n"
      ],
      "execution_count": null,
      "outputs": []
    },
    {
      "cell_type": "code",
      "metadata": {
        "colab": {
          "base_uri": "https://localhost:8080/",
          "height": 487
        },
        "id": "lBHgw1u8ZsJc",
        "outputId": "a431d73a-4b9a-4ca4-8664-defb1f101baf"
      },
      "source": [
        "plt.figure(figsize = (8, 8))\r\n",
        "plt.xticks([])\r\n",
        "rand = random.randint(0,9999)\r\n",
        "plt.imshow(X_test[rand].reshape(28,28))"
      ],
      "execution_count": null,
      "outputs": [
        {
          "output_type": "execute_result",
          "data": {
            "text/plain": [
              "<matplotlib.image.AxesImage at 0x7f35a0a48ba8>"
            ]
          },
          "metadata": {
            "tags": []
          },
          "execution_count": 13
        },
        {
          "output_type": "display_data",
          "data": {
            "image/png": "[encoded data removed]",
            "text/plain": [
              "<Figure size 576x576 with 1 Axes>"
            ]
          },
          "metadata": {
            "tags": [],
            "needs_background": "light"
          }
        }
      ]
    },
    {
      "cell_type": "code",
      "metadata": {
        "id": "OVX0PlWTYhd2"
      },
      "source": [
        "preds = model.predict(X_test)"
      ],
      "execution_count": null,
      "outputs": []
    },
    {
      "cell_type": "code",
      "metadata": {
        "colab": {
          "base_uri": "https://localhost:8080/"
        },
        "id": "azRCTHpyYk4J",
        "outputId": "93ecffbd-c2c3-4da8-f49c-a0d35d4aa2c7"
      },
      "source": [
        "labels=['T-shirt/top','Trouser','Pullover','Dress','Coat','Sandal','Shirt','Sneaker','Bag','Ankle boot']\r\n",
        "print ('Predicted:', labels[np.argmax(preds[rand])])\r\n"
      ],
      "execution_count": null,
      "outputs": [
        {
          "output_type": "stream",
          "text": [
            "Predicted: Coat\n"
          ],
          "name": "stdout"
        }
      ]
    },
    {
      "cell_type": "code",
      "metadata": {
        "colab": {
          "base_uri": "https://localhost:8080/"
        },
        "id": "g1Efetn6zrzZ",
        "outputId": "b9370096-cd47-4922-b60f-aaa706837314"
      },
      "source": [
        "test_label = pd.read_csv('fashion-mnist_test_label.csv')\r\n",
        "test_label = test_label.to_numpy()\r\n",
        "print(\"True label:\", labels[int(test_label[rand])] )"
      ],
      "execution_count": null,
      "outputs": [
        {
          "output_type": "stream",
          "text": [
            "True label: Coat\n"
          ],
          "name": "stdout"
        }
      ]
    }
  ]
}